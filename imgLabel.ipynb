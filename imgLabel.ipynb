{
 "cells": [
  {
   "cell_type": "code",
   "execution_count": 14,
   "metadata": {},
   "outputs": [],
   "source": [
    "import pandas as pd\n",
    "import os\n"
   ]
  },
  {
   "cell_type": "code",
   "execution_count": 7,
   "metadata": {},
   "outputs": [],
   "source": [
    "# from multi_label_pigeon import multi_label_annotate\n",
    "# from IPython.display import display, Image\n",
    "# import os\n",
    "\n",
    "# DIR = \"Dataset/First50\"\n",
    "# num_imgs = 50\n",
    "\n",
    "\n",
    "# annotations = multi_label_annotate(\n",
    "#     [os.path.join(DIR, f\"thumbnail_{i}.png\") for i in range(1,num_imgs)],\n",
    "#     options={'Angle of Access':['Easy','Difficult'],\n",
    "#               'Angle of Curvature':['Moderate <25 degrees','Severe >25'],\n",
    "#               'S-shaped curve':['No','Yes'],\n",
    "#               'Dilacerated curve':['No','Yes'],\n",
    "#               'Curve course':['Gradual','Abrupt'],\n",
    "#               'Curve No.':['Single','Multiple'],\n",
    "#               'Curve Location':['middle-apical','coronal-middle'],\n",
    "#               'Canal visibility':['visible','invisible'],\n",
    "#               'Apical periodontitis':['absent','present'],\n",
    "#               'Provisional Root length':['<22mm','Long>22mm'],\n",
    "#               'Total Score':['0','1','2','3','4','5','6','7','8','9','10']\n",
    "#               },\n",
    "#     display_fn=lambda filename: display(Image(filename))\n",
    "#     )\n",
    "\n"
   ]
  },
  {
   "cell_type": "code",
   "execution_count": 36,
   "metadata": {},
   "outputs": [
    {
     "name": "stdout",
     "output_type": "stream",
     "text": [
      "['Dataset/Test/thumbnail_407.png', 'Dataset/Test/thumbnail_408.png', 'Dataset/Test/thumbnail_411.png', 'Dataset/Test/thumbnail_412.png', 'Dataset/Test/thumbnail_413.png', 'Dataset/Test/thumbnail_420.png', 'Dataset/Test/thumbnail_426.png', 'Dataset/Test/thumbnail_432.png', 'Dataset/Test/thumbnail_437.png', 'Dataset/Test/thumbnail_439.png', 'Dataset/Test/thumbnail_440.png', 'Dataset/Test/thumbnail_441.png', 'Dataset/Test/thumbnail_442.png', 'Dataset/Test/thumbnail_443.png', 'Dataset/Test/thumbnail_445.png', 'Dataset/Test/thumbnail_446.png', 'Dataset/Test/thumbnail_447.png', 'Dataset/Test/thumbnail_448.png', 'Dataset/Test/thumbnail_449.png', 'Dataset/Test/thumbnail_450.png', 'Dataset/Test/thumbnail_451.png', 'Dataset/Test/thumbnail_455.png', 'Dataset/Test/thumbnail_456.png', 'Dataset/Test/thumbnail_457.png', 'Dataset/Test/thumbnail_459.png', 'Dataset/Test/thumbnail_460.png', 'Dataset/Test/thumbnail_462.png', 'Dataset/Test/thumbnail_463.png', 'Dataset/Test/thumbnail_464.png', 'Dataset/Test/thumbnail_465.png', 'Dataset/Test/thumbnail_466.png', 'Dataset/Test/thumbnail_468.png', 'Dataset/Test/thumbnail_472.png']\n"
     ]
    }
   ],
   "source": [
    "files = []\n",
    "\n",
    "path=\"Dataset/Test/\"\n",
    "for filename in os.listdir(path):\n",
    "    files.append(path+filename)\n",
    "\n",
    "print(files)\n",
    "\n",
    "\n",
    "\n"
   ]
  },
  {
   "cell_type": "code",
   "execution_count": 37,
   "metadata": {},
   "outputs": [
    {
     "data": {
      "application/vnd.jupyter.widget-view+json": {
       "model_id": "4ff1478abc1f4f2495d9d37cde7a2282",
       "version_major": 2,
       "version_minor": 0
      },
      "text/plain": [
       "HTML(value='0 examples annotated, 34 examples left')"
      ]
     },
     "metadata": {},
     "output_type": "display_data"
    },
    {
     "name": "stdout",
     "output_type": "stream",
     "text": [
      "Total Score\n"
     ]
    },
    {
     "data": {
      "application/vnd.jupyter.widget-view+json": {
       "model_id": "26024243861e4148b2828e3425fba43e",
       "version_major": 2,
       "version_minor": 0
      },
      "text/plain": [
       "HBox(children=(Button(description='0', style=ButtonStyle()), Button(description='1', style=ButtonStyle()), But…"
      ]
     },
     "metadata": {},
     "output_type": "display_data"
    },
    {
     "name": "stdout",
     "output_type": "stream",
     "text": [
      "\n"
     ]
    },
    {
     "data": {
      "application/vnd.jupyter.widget-view+json": {
       "model_id": "498889e9777941b281673272836fc945",
       "version_major": 2,
       "version_minor": 0
      },
      "text/plain": [
       "HBox(children=(Button(description='done', style=ButtonStyle()), Button(description='back', style=ButtonStyle()…"
      ]
     },
     "metadata": {},
     "output_type": "display_data"
    },
    {
     "data": {
      "application/vnd.jupyter.widget-view+json": {
       "model_id": "766c14c6e642428eaf0992d3ccdfbdc8",
       "version_major": 2,
       "version_minor": 0
      },
      "text/plain": [
       "Output()"
      ]
     },
     "metadata": {},
     "output_type": "display_data"
    }
   ],
   "source": [
    "from multi_label_pigeon import multi_label_annotate\n",
    "from IPython.display import display, Image\n",
    "import os\n",
    "\n",
    "DIR = \"Dataset/Test/\"\n",
    "num_imgs = 500\n",
    "\n",
    "annotations = multi_label_annotate(\n",
    "    ['Dataset/Test/thumbnail_407.png', 'Dataset/Test/thumbnail_408.png', 'Dataset/Test/thumbnail_411.png', 'Dataset/Test/thumbnail_412.png', 'Dataset/Test/thumbnail_413.png', 'Dataset/Test/thumbnail_420.png', 'Dataset/Test/thumbnail_426.png', 'Dataset/Test/thumbnail_432.png', 'Dataset/Test/thumbnail_437.png', 'Dataset/Test/thumbnail_439.png', 'Dataset/Test/thumbnail_440.png', 'Dataset/Test/thumbnail_441.png', 'Dataset/Test/thumbnail_442.png', 'Dataset/Test/thumbnail_443.png', 'Dataset/Test/thumbnail_445.png', 'Dataset/Test/thumbnail_446.png', 'Dataset/Test/thumbnail_447.png', 'Dataset/Test/thumbnail_448.png', 'Dataset/Test/thumbnail_449.png', 'Dataset/Test/thumbnail_450.png', 'Dataset/Test/thumbnail_451.png', 'Dataset/Test/thumbnail_455.png', 'Dataset/Test/thumbnail_456.png', 'Dataset/Test/thumbnail_457.png', 'Dataset/Test/thumbnail_459.png', 'Dataset/Test/thumbnail_460.png', 'Dataset/Test/thumbnail_462.png', 'Dataset/Test/thumbnail_463.png', 'Dataset/Test/thumbnail_464.png', 'Dataset/Test/thumbnail_465.png', 'Dataset/Test/thumbnail_466.png', 'Dataset/Test/thumbnail_468.png', 'Dataset/Test/thumbnail_472.png'],\n",
    "    options={\n",
    "             'Total Score':['0','1','2','3','4','5','6','7','8','9','10']\n",
    "              },\n",
    "    display_fn=lambda filename: display(Image(filename))\n",
    "    )"
   ]
  },
  {
   "cell_type": "code",
   "execution_count": 5,
   "metadata": {},
   "outputs": [
    {
     "ename": "NameError",
     "evalue": "name 'annotations' is not defined",
     "output_type": "error",
     "traceback": [
      "\u001b[1;31m---------------------------------------------------------------------------\u001b[0m",
      "\u001b[1;31mNameError\u001b[0m                                 Traceback (most recent call last)",
      "\u001b[1;32m~\\AppData\\Local\\Temp\\ipykernel_9492\\3257076637.py\u001b[0m in \u001b[0;36m<module>\u001b[1;34m\u001b[0m\n\u001b[1;32m----> 1\u001b[1;33m \u001b[0mdict\u001b[0m\u001b[1;33m(\u001b[0m\u001b[0mannotations\u001b[0m\u001b[1;33m)\u001b[0m\u001b[1;33m\u001b[0m\u001b[1;33m\u001b[0m\u001b[0m\n\u001b[0m\u001b[0;32m      2\u001b[0m \u001b[0mdf\u001b[0m \u001b[1;33m=\u001b[0m \u001b[0mpd\u001b[0m\u001b[1;33m.\u001b[0m\u001b[0mDataFrame\u001b[0m\u001b[1;33m(\u001b[0m\u001b[0mannotations\u001b[0m\u001b[1;33m)\u001b[0m\u001b[1;33m.\u001b[0m\u001b[0mtranspose\u001b[0m\u001b[1;33m(\u001b[0m\u001b[1;33m)\u001b[0m\u001b[1;33m\u001b[0m\u001b[1;33m\u001b[0m\u001b[0m\n\u001b[0;32m      3\u001b[0m \u001b[0mdf\u001b[0m\u001b[1;33m.\u001b[0m\u001b[0mhead\u001b[0m\u001b[1;33m(\u001b[0m\u001b[1;36m5\u001b[0m\u001b[1;33m)\u001b[0m\u001b[1;33m\u001b[0m\u001b[1;33m\u001b[0m\u001b[0m\n",
      "\u001b[1;31mNameError\u001b[0m: name 'annotations' is not defined"
     ]
    }
   ],
   "source": [
    "dict(annotations)\n",
    "df = pd.DataFrame(annotations).transpose()\n",
    "df.head(5)"
   ]
  },
  {
   "cell_type": "code",
   "execution_count": null,
   "metadata": {},
   "outputs": [
    {
     "ename": "NameError",
     "evalue": "name 'pd' is not defined",
     "output_type": "error",
     "traceback": [
      "\u001b[1;31m---------------------------------------------------------------------------\u001b[0m",
      "\u001b[1;31mNameError\u001b[0m                                 Traceback (most recent call last)",
      "\u001b[1;32m~\\AppData\\Local\\Temp\\ipykernel_9492\\2763698907.py\u001b[0m in \u001b[0;36m<module>\u001b[1;34m\u001b[0m\n\u001b[1;32m----> 1\u001b[1;33m \u001b[0mdf\u001b[0m\u001b[1;33m=\u001b[0m\u001b[0mpd\u001b[0m\u001b[1;33m.\u001b[0m\u001b[0mread_csv\u001b[0m\u001b[1;33m(\u001b[0m\u001b[1;34m'file1.csv'\u001b[0m\u001b[1;33m)\u001b[0m\u001b[1;33m\u001b[0m\u001b[1;33m\u001b[0m\u001b[0m\n\u001b[0m",
      "\u001b[1;31mNameError\u001b[0m: name 'pd' is not defined"
     ]
    }
   ],
   "source": [
    "df=pd.read_csv('Test.csv')"
   ]
  },
  {
   "cell_type": "code",
   "execution_count": 108,
   "metadata": {},
   "outputs": [],
   "source": [
    "for i in df.columns:\n",
    "    df[i] = (pd.DataFrame(df[i].astype(str)))"
   ]
  },
  {
   "cell_type": "code",
   "execution_count": 109,
   "metadata": {},
   "outputs": [
    {
     "data": {
      "text/plain": [
       "Unnamed: 0                 object\n",
       "Angle of Access            object\n",
       "Angle of Curvature         object\n",
       "S-shaped curve             object\n",
       "Dilacerated curve          object\n",
       "Curve course               object\n",
       "Curve No.                  object\n",
       "Curve Location             object\n",
       "Canal visibility           object\n",
       "Apical periodontitis       object\n",
       "Provisional Root length    object\n",
       "Total Score                object\n",
       "dtype: object"
      ]
     },
     "execution_count": 109,
     "metadata": {},
     "output_type": "execute_result"
    }
   ],
   "source": [
    "df.dtypes"
   ]
  },
  {
   "cell_type": "code",
   "execution_count": 110,
   "metadata": {},
   "outputs": [
    {
     "data": {
      "text/html": [
       "<div>\n",
       "<style scoped>\n",
       "    .dataframe tbody tr th:only-of-type {\n",
       "        vertical-align: middle;\n",
       "    }\n",
       "\n",
       "    .dataframe tbody tr th {\n",
       "        vertical-align: top;\n",
       "    }\n",
       "\n",
       "    .dataframe thead th {\n",
       "        text-align: right;\n",
       "    }\n",
       "</style>\n",
       "<table border=\"1\" class=\"dataframe\">\n",
       "  <thead>\n",
       "    <tr style=\"text-align: right;\">\n",
       "      <th></th>\n",
       "      <th>Unnamed: 0</th>\n",
       "      <th>Angle of Access</th>\n",
       "      <th>Angle of Curvature</th>\n",
       "      <th>S-shaped curve</th>\n",
       "      <th>Dilacerated curve</th>\n",
       "      <th>Curve course</th>\n",
       "      <th>Curve No.</th>\n",
       "      <th>Curve Location</th>\n",
       "      <th>Canal visibility</th>\n",
       "      <th>Apical periodontitis</th>\n",
       "      <th>Provisional Root length</th>\n",
       "      <th>Total Score</th>\n",
       "    </tr>\n",
       "  </thead>\n",
       "  <tbody>\n",
       "    <tr>\n",
       "      <th>0</th>\n",
       "      <td>Dataset/First50\\thumbnail_1.png</td>\n",
       "      <td>['Easy']</td>\n",
       "      <td>['Moderate &lt;25 degrees']</td>\n",
       "      <td>['No']</td>\n",
       "      <td>['No']</td>\n",
       "      <td>['Gradual']</td>\n",
       "      <td>['Multiple']</td>\n",
       "      <td>['middle-apical']</td>\n",
       "      <td>['invisible']</td>\n",
       "      <td>['present']</td>\n",
       "      <td>['Long&gt;22mm']</td>\n",
       "      <td>['4']</td>\n",
       "    </tr>\n",
       "    <tr>\n",
       "      <th>1</th>\n",
       "      <td>Dataset/First50\\thumbnail_2.png</td>\n",
       "      <td>['Difficult']</td>\n",
       "      <td>['Severe &gt;25']</td>\n",
       "      <td>['Yes']</td>\n",
       "      <td>['Yes']</td>\n",
       "      <td>['Abrupt']</td>\n",
       "      <td>['Multiple']</td>\n",
       "      <td>['coronal-middle']</td>\n",
       "      <td>['invisible']</td>\n",
       "      <td>['absent']</td>\n",
       "      <td>['&lt;22mm']</td>\n",
       "      <td>['8']</td>\n",
       "    </tr>\n",
       "    <tr>\n",
       "      <th>2</th>\n",
       "      <td>Dataset/First50\\thumbnail_3.png</td>\n",
       "      <td>['Easy']</td>\n",
       "      <td>['Moderate &lt;25 degrees']</td>\n",
       "      <td>['No']</td>\n",
       "      <td>['No']</td>\n",
       "      <td>['Gradual']</td>\n",
       "      <td>['Multiple']</td>\n",
       "      <td>['middle-apical']</td>\n",
       "      <td>['invisible']</td>\n",
       "      <td>['absent']</td>\n",
       "      <td>['&lt;22mm']</td>\n",
       "      <td>['2']</td>\n",
       "    </tr>\n",
       "    <tr>\n",
       "      <th>3</th>\n",
       "      <td>Dataset/First50\\thumbnail_4.png</td>\n",
       "      <td>['Easy']</td>\n",
       "      <td>['Moderate &lt;25 degrees']</td>\n",
       "      <td>['No']</td>\n",
       "      <td>['No']</td>\n",
       "      <td>['Gradual']</td>\n",
       "      <td>['Multiple']</td>\n",
       "      <td>['middle-apical']</td>\n",
       "      <td>['invisible']</td>\n",
       "      <td>['absent']</td>\n",
       "      <td>['&lt;22mm']</td>\n",
       "      <td>['2']</td>\n",
       "    </tr>\n",
       "    <tr>\n",
       "      <th>4</th>\n",
       "      <td>Dataset/First50\\thumbnail_5.png</td>\n",
       "      <td>['Easy']</td>\n",
       "      <td>['Moderate &lt;25 degrees']</td>\n",
       "      <td>['No']</td>\n",
       "      <td>['No']</td>\n",
       "      <td>['Gradual']</td>\n",
       "      <td>['Multiple']</td>\n",
       "      <td>['middle-apical']</td>\n",
       "      <td>['visible']</td>\n",
       "      <td>['absent']</td>\n",
       "      <td>['&lt;22mm']</td>\n",
       "      <td>['1']</td>\n",
       "    </tr>\n",
       "  </tbody>\n",
       "</table>\n",
       "</div>"
      ],
      "text/plain": [
       "                        Unnamed: 0 Angle of Access        Angle of Curvature  \\\n",
       "0  Dataset/First50\\thumbnail_1.png        ['Easy']  ['Moderate <25 degrees']   \n",
       "1  Dataset/First50\\thumbnail_2.png   ['Difficult']            ['Severe >25']   \n",
       "2  Dataset/First50\\thumbnail_3.png        ['Easy']  ['Moderate <25 degrees']   \n",
       "3  Dataset/First50\\thumbnail_4.png        ['Easy']  ['Moderate <25 degrees']   \n",
       "4  Dataset/First50\\thumbnail_5.png        ['Easy']  ['Moderate <25 degrees']   \n",
       "\n",
       "  S-shaped curve Dilacerated curve Curve course     Curve No.  \\\n",
       "0         ['No']            ['No']  ['Gradual']  ['Multiple']   \n",
       "1        ['Yes']           ['Yes']   ['Abrupt']  ['Multiple']   \n",
       "2         ['No']            ['No']  ['Gradual']  ['Multiple']   \n",
       "3         ['No']            ['No']  ['Gradual']  ['Multiple']   \n",
       "4         ['No']            ['No']  ['Gradual']  ['Multiple']   \n",
       "\n",
       "       Curve Location Canal visibility Apical periodontitis  \\\n",
       "0   ['middle-apical']    ['invisible']          ['present']   \n",
       "1  ['coronal-middle']    ['invisible']           ['absent']   \n",
       "2   ['middle-apical']    ['invisible']           ['absent']   \n",
       "3   ['middle-apical']    ['invisible']           ['absent']   \n",
       "4   ['middle-apical']      ['visible']           ['absent']   \n",
       "\n",
       "  Provisional Root length Total Score  \n",
       "0           ['Long>22mm']       ['4']  \n",
       "1               ['<22mm']       ['8']  \n",
       "2               ['<22mm']       ['2']  \n",
       "3               ['<22mm']       ['2']  \n",
       "4               ['<22mm']       ['1']  "
      ]
     },
     "execution_count": 110,
     "metadata": {},
     "output_type": "execute_result"
    }
   ],
   "source": [
    "df.head()"
   ]
  },
  {
   "cell_type": "code",
   "execution_count": 111,
   "metadata": {},
   "outputs": [],
   "source": [
    "for i in df.columns:\n",
    "    df[i] =  df[i].apply(lambda x: x.replace('[','').replace(']','')) "
   ]
  },
  {
   "cell_type": "code",
   "execution_count": 112,
   "metadata": {},
   "outputs": [
    {
     "data": {
      "text/plain": [
       "Unnamed: 0                 True\n",
       "Angle of Access            True\n",
       "Angle of Curvature         True\n",
       "S-shaped curve             True\n",
       "Dilacerated curve          True\n",
       "Curve course               True\n",
       "Curve No.                  True\n",
       "Curve Location             True\n",
       "Canal visibility           True\n",
       "Apical periodontitis       True\n",
       "Provisional Root length    True\n",
       "Total Score                True\n",
       "dtype: bool"
      ]
     },
     "execution_count": 112,
     "metadata": {},
     "output_type": "execute_result"
    }
   ],
   "source": [
    "pd.Series(df.all())"
   ]
  },
  {
   "cell_type": "code",
   "execution_count": 113,
   "metadata": {},
   "outputs": [],
   "source": [
    "df.rename(columns={'Unnamed: 0':'Path'},inplace=True)"
   ]
  },
  {
   "cell_type": "code",
   "execution_count": 114,
   "metadata": {},
   "outputs": [
    {
     "data": {
      "text/html": [
       "<div>\n",
       "<style scoped>\n",
       "    .dataframe tbody tr th:only-of-type {\n",
       "        vertical-align: middle;\n",
       "    }\n",
       "\n",
       "    .dataframe tbody tr th {\n",
       "        vertical-align: top;\n",
       "    }\n",
       "\n",
       "    .dataframe thead th {\n",
       "        text-align: right;\n",
       "    }\n",
       "</style>\n",
       "<table border=\"1\" class=\"dataframe\">\n",
       "  <thead>\n",
       "    <tr style=\"text-align: right;\">\n",
       "      <th></th>\n",
       "      <th>Path</th>\n",
       "      <th>Angle of Access</th>\n",
       "      <th>Angle of Curvature</th>\n",
       "      <th>S-shaped curve</th>\n",
       "      <th>Dilacerated curve</th>\n",
       "      <th>Curve course</th>\n",
       "      <th>Curve No.</th>\n",
       "      <th>Curve Location</th>\n",
       "      <th>Canal visibility</th>\n",
       "      <th>Apical periodontitis</th>\n",
       "      <th>Provisional Root length</th>\n",
       "      <th>Total Score</th>\n",
       "    </tr>\n",
       "  </thead>\n",
       "  <tbody>\n",
       "    <tr>\n",
       "      <th>0</th>\n",
       "      <td>Dataset/First50\\thumbnail_1.png</td>\n",
       "      <td>'Easy'</td>\n",
       "      <td>'Moderate &lt;25 degrees'</td>\n",
       "      <td>'No'</td>\n",
       "      <td>'No'</td>\n",
       "      <td>'Gradual'</td>\n",
       "      <td>'Multiple'</td>\n",
       "      <td>'middle-apical'</td>\n",
       "      <td>'invisible'</td>\n",
       "      <td>'present'</td>\n",
       "      <td>'Long&gt;22mm'</td>\n",
       "      <td>'4'</td>\n",
       "    </tr>\n",
       "    <tr>\n",
       "      <th>1</th>\n",
       "      <td>Dataset/First50\\thumbnail_2.png</td>\n",
       "      <td>'Difficult'</td>\n",
       "      <td>'Severe &gt;25'</td>\n",
       "      <td>'Yes'</td>\n",
       "      <td>'Yes'</td>\n",
       "      <td>'Abrupt'</td>\n",
       "      <td>'Multiple'</td>\n",
       "      <td>'coronal-middle'</td>\n",
       "      <td>'invisible'</td>\n",
       "      <td>'absent'</td>\n",
       "      <td>'&lt;22mm'</td>\n",
       "      <td>'8'</td>\n",
       "    </tr>\n",
       "    <tr>\n",
       "      <th>2</th>\n",
       "      <td>Dataset/First50\\thumbnail_3.png</td>\n",
       "      <td>'Easy'</td>\n",
       "      <td>'Moderate &lt;25 degrees'</td>\n",
       "      <td>'No'</td>\n",
       "      <td>'No'</td>\n",
       "      <td>'Gradual'</td>\n",
       "      <td>'Multiple'</td>\n",
       "      <td>'middle-apical'</td>\n",
       "      <td>'invisible'</td>\n",
       "      <td>'absent'</td>\n",
       "      <td>'&lt;22mm'</td>\n",
       "      <td>'2'</td>\n",
       "    </tr>\n",
       "    <tr>\n",
       "      <th>3</th>\n",
       "      <td>Dataset/First50\\thumbnail_4.png</td>\n",
       "      <td>'Easy'</td>\n",
       "      <td>'Moderate &lt;25 degrees'</td>\n",
       "      <td>'No'</td>\n",
       "      <td>'No'</td>\n",
       "      <td>'Gradual'</td>\n",
       "      <td>'Multiple'</td>\n",
       "      <td>'middle-apical'</td>\n",
       "      <td>'invisible'</td>\n",
       "      <td>'absent'</td>\n",
       "      <td>'&lt;22mm'</td>\n",
       "      <td>'2'</td>\n",
       "    </tr>\n",
       "    <tr>\n",
       "      <th>4</th>\n",
       "      <td>Dataset/First50\\thumbnail_5.png</td>\n",
       "      <td>'Easy'</td>\n",
       "      <td>'Moderate &lt;25 degrees'</td>\n",
       "      <td>'No'</td>\n",
       "      <td>'No'</td>\n",
       "      <td>'Gradual'</td>\n",
       "      <td>'Multiple'</td>\n",
       "      <td>'middle-apical'</td>\n",
       "      <td>'visible'</td>\n",
       "      <td>'absent'</td>\n",
       "      <td>'&lt;22mm'</td>\n",
       "      <td>'1'</td>\n",
       "    </tr>\n",
       "  </tbody>\n",
       "</table>\n",
       "</div>"
      ],
      "text/plain": [
       "                              Path Angle of Access      Angle of Curvature  \\\n",
       "0  Dataset/First50\\thumbnail_1.png          'Easy'  'Moderate <25 degrees'   \n",
       "1  Dataset/First50\\thumbnail_2.png     'Difficult'            'Severe >25'   \n",
       "2  Dataset/First50\\thumbnail_3.png          'Easy'  'Moderate <25 degrees'   \n",
       "3  Dataset/First50\\thumbnail_4.png          'Easy'  'Moderate <25 degrees'   \n",
       "4  Dataset/First50\\thumbnail_5.png          'Easy'  'Moderate <25 degrees'   \n",
       "\n",
       "  S-shaped curve Dilacerated curve Curve course   Curve No.    Curve Location  \\\n",
       "0           'No'              'No'    'Gradual'  'Multiple'   'middle-apical'   \n",
       "1          'Yes'             'Yes'     'Abrupt'  'Multiple'  'coronal-middle'   \n",
       "2           'No'              'No'    'Gradual'  'Multiple'   'middle-apical'   \n",
       "3           'No'              'No'    'Gradual'  'Multiple'   'middle-apical'   \n",
       "4           'No'              'No'    'Gradual'  'Multiple'   'middle-apical'   \n",
       "\n",
       "  Canal visibility Apical periodontitis Provisional Root length Total Score  \n",
       "0      'invisible'            'present'             'Long>22mm'         '4'  \n",
       "1      'invisible'             'absent'                 '<22mm'         '8'  \n",
       "2      'invisible'             'absent'                 '<22mm'         '2'  \n",
       "3      'invisible'             'absent'                 '<22mm'         '2'  \n",
       "4        'visible'             'absent'                 '<22mm'         '1'  "
      ]
     },
     "execution_count": 114,
     "metadata": {},
     "output_type": "execute_result"
    }
   ],
   "source": [
    "df.head()"
   ]
  },
  {
   "cell_type": "code",
   "execution_count": 116,
   "metadata": {},
   "outputs": [],
   "source": [
    "df.to_csv('Labels.csv', sep='\\t', encoding='utf-8')"
   ]
  },
  {
   "attachments": {},
   "cell_type": "markdown",
   "metadata": {},
   "source": [
    "# Rename Script\n"
   ]
  },
  {
   "cell_type": "code",
   "execution_count": 35,
   "metadata": {},
   "outputs": [],
   "source": [
    "import os\n",
    "\n",
    "i = 0\n",
    "path=\"Dataset/Test/\"\n",
    "for filename in os.listdir(path):\n",
    "    my_dest = \"thumbnail_\" + filename\n",
    "    my_source =path + filename\n",
    "    my_dest =path + my_dest\n",
    "\t# rename() function will\n",
    "\t# rename all the files\n",
    "    os.rename(my_source, my_dest)\n",
    "    i += 1"
   ]
  },
  {
   "cell_type": "code",
   "execution_count": null,
   "metadata": {},
   "outputs": [],
   "source": []
  }
 ],
 "metadata": {
  "kernelspec": {
   "display_name": "base",
   "language": "python",
   "name": "python3"
  },
  "language_info": {
   "codemirror_mode": {
    "name": "ipython",
    "version": 3
   },
   "file_extension": ".py",
   "mimetype": "text/x-python",
   "name": "python",
   "nbconvert_exporter": "python",
   "pygments_lexer": "ipython3",
   "version": "3.9.13"
  },
  "orig_nbformat": 4,
  "vscode": {
   "interpreter": {
    "hash": "8b750553b9494c7c4a1452f88110dc64646d0c9dd1f3536621ce1bd00f817801"
   }
  }
 },
 "nbformat": 4,
 "nbformat_minor": 2
}
